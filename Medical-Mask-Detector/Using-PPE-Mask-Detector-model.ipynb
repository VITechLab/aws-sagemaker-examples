{
 "cells": [
  {
   "cell_type": "markdown",
   "metadata": {},
   "source": [
    "# Personal Protection Equipment Mask Detection model\n",
    "This notebook shows how you can use SageMaker Python API to do the following:\n",
    " * deploy our model to create an endpoint\n",
    " * run Real Time inference on endpoint using local image\n",
    " * visualize  and save the prediction on original image\n",
    " * run Batch Transform job to perfom the inference on your data stored in Amazon S3 bucket"
   ]
  },
  {
   "cell_type": "markdown",
   "metadata": {},
   "source": [
    "### 1. Start the trial or buy our VitechLab PPE model on AWS Marketplace"
   ]
  },
  {
   "cell_type": "markdown",
   "metadata": {},
   "source": [
    "You can find our model here:"
   ]
  },
  {
   "cell_type": "markdown",
   "metadata": {},
   "source": [
    "### 2. Initializing a model using AWS SageMaker Python API"
   ]
  },
  {
   "cell_type": "code",
   "execution_count": null,
   "metadata": {
    "ExecuteTime": {
     "end_time": "2020-01-17T10:16:10.116244Z",
     "start_time": "2020-01-17T10:16:08.341061Z"
    }
   },
   "outputs": [],
   "source": [
    "import sagemaker as sage\n",
    "from sagemaker import get_execution_role\n",
    "\n",
    "sess = sage.Session()\n",
    "role = get_execution_role()"
   ]
  },
  {
   "cell_type": "code",
   "execution_count": null,
   "metadata": {
    "ExecuteTime": {
     "end_time": "2020-01-17T10:17:26.342218Z",
     "start_time": "2020-01-17T10:17:26.270208Z"
    }
   },
   "outputs": [],
   "source": [
    "from utils import get_model_package_arn\n",
    "\n",
    "model_package_arn = get_model_package_arn(sess.boto_region_name)"
   ]
  },
  {
   "cell_type": "code",
   "execution_count": null,
   "metadata": {
    "pycharm": {
     "name": "#%%\n"
    }
   },
   "outputs": [],
   "source": [
    "model = sage.ModelPackage(\n",
    "    role=role,\n",
    "    model_package_arn=model_package_arn)"
   ]
  },
  {
   "cell_type": "markdown",
   "metadata": {},
   "source": [
    "### 3. Generating Prediction using `RealTimePredictor`"
   ]
  },
  {
   "cell_type": "markdown",
   "metadata": {},
   "source": [
    "#### Creating a new endpoint"
   ]
  },
  {
   "cell_type": "code",
   "execution_count": null,
   "metadata": {},
   "outputs": [],
   "source": [
    "endpoint_name='ppe-mask-detection-model-example-endpoint'\n",
    "\n",
    "model.deploy(initial_instance_count=1, instance_type='ml.c4.xlarge', endpoint_name=endpoint_name)"
   ]
  },
  {
   "cell_type": "markdown",
   "metadata": {},
   "source": [
    "#### Generating predictions"
   ]
  },
  {
   "cell_type": "code",
   "execution_count": null,
   "metadata": {
    "ExecuteTime": {
     "end_time": "2020-01-17T10:27:58.711185Z",
     "start_time": "2020-01-17T10:17:29.545587Z"
    }
   },
   "outputs": [],
   "source": [
    "predictor = sage.predictor.RealTimePredictor(\n",
    "    endpoint_name,\n",
    "    sagemaker_session=sess, \n",
    "    content_type=\"image/jpeg\"\n",
    ")"
   ]
  },
  {
   "cell_type": "code",
   "execution_count": null,
   "metadata": {
    "ExecuteTime": {
     "end_time": "2020-01-17T10:28:06.963371Z",
     "start_time": "2020-01-17T10:27:58.717900Z"
    }
   },
   "outputs": [],
   "source": [
    "file_name = 'sample_data/demo_input/image2.jpg'\n",
    "\n",
    "with open(file_name, 'rb') as image:\n",
    "    f = image.read()\n",
    "    image_bytes = bytearray(f)\n",
    "\n",
    "prediction_result = predictor.predict(image_bytes).decode(\"utf-8\")"
   ]
  },
  {
   "cell_type": "code",
   "execution_count": null,
   "metadata": {
    "ExecuteTime": {
     "end_time": "2020-01-17T10:28:07.029402Z",
     "start_time": "2020-01-17T10:28:06.965366Z"
    }
   },
   "outputs": [],
   "source": [
    "import json\n",
    "\n",
    "result = json.loads(prediction_result)\n",
    "result"
   ]
  },
  {
   "cell_type": "code",
   "execution_count": null,
   "metadata": {
    "ExecuteTime": {
     "end_time": "2020-01-17T10:28:07.627367Z",
     "start_time": "2020-01-17T10:28:07.031363Z"
    }
   },
   "outputs": [],
   "source": [
    "from utils import visualize_detection\n",
    "\n",
    "visualize_detection(file_name, result)"
   ]
  },
  {
   "cell_type": "markdown",
   "metadata": {},
   "source": [
    "_Photo by Susan A. Romano_"
   ]
  },
  {
   "cell_type": "markdown",
   "metadata": {},
   "source": [
    "### Delete the Endpoint\n",
    "Having an endpoint running will incur some costs. Therefore as a clean-up job, we should delete the endpoint."
   ]
  },
  {
   "cell_type": "code",
   "execution_count": null,
   "metadata": {
    "ExecuteTime": {
     "end_time": "2020-01-17T10:28:08.677069Z",
     "start_time": "2020-01-17T10:28:07.629361Z"
    }
   },
   "outputs": [],
   "source": [
    "sess.delete_endpoint(predictor.endpoint)"
   ]
  },
  {
   "cell_type": "markdown",
   "metadata": {},
   "source": [
    "### Generate Prediction using Batch Transform"
   ]
  },
  {
   "cell_type": "markdown",
   "metadata": {},
   "source": [
    "#### Uploading input data to S3"
   ]
  },
  {
   "cell_type": "code",
   "execution_count": null,
   "metadata": {
    "ExecuteTime": {
     "end_time": "2019-11-29T17:02:15.419678Z",
     "start_time": "2019-11-29T17:02:15.333681Z"
    }
   },
   "outputs": [],
   "source": [
    "input_data_folder = 'sample_data/demo_input'\n",
    "s3_data_folder = 'ppe_mask_detection_model_batch_testing/input'\n",
    "\n",
    "input_data_location = sess.upload_data(input_data_folder, key_prefix=s3_data_folder)\n",
    "output_data_location = input_data_location.replace('input', 'output')"
   ]
  },
  {
   "cell_type": "markdown",
   "metadata": {},
   "source": [
    "#### Starting a new Batch Transform Job"
   ]
  },
  {
   "cell_type": "code",
   "execution_count": null,
   "metadata": {
    "ExecuteTime": {
     "end_time": "2019-11-29T17:03:14.522400Z",
     "start_time": "2019-11-29T17:03:11.851372Z"
    }
   },
   "outputs": [],
   "source": [
    "transformer = model.transformer(instance_count=1,\n",
    "                               instance_type='ml.c4.2xlarge',\n",
    "                               output_path=output_data_location,\n",
    "                               strategy='SingleRecord',\n",
    "                               assemble_with=None,\n",
    "                               accept='image/jpeg')"
   ]
  },
  {
   "cell_type": "code",
   "execution_count": null,
   "metadata": {
    "ExecuteTime": {
     "end_time": "2019-11-29T17:03:16.173344Z",
     "start_time": "2019-11-29T17:03:15.688932Z"
    }
   },
   "outputs": [],
   "source": [
    "transformer.transform(input_data_location, \n",
    "    content_type='image/jpeg',\n",
    "    compression_type=None,\n",
    "    split_type=None,\n",
    "    join_source=None)\n",
    "\n",
    "transformer.wait()"
   ]
  },
  {
   "cell_type": "markdown",
   "metadata": {},
   "source": [
    "#### Download and display the result file"
   ]
  },
  {
   "cell_type": "code",
   "execution_count": null,
   "metadata": {
    "ExecuteTime": {
     "end_time": "2020-01-14T13:22:47.290014Z",
     "start_time": "2020-01-14T13:22:46.309090Z"
    }
   },
   "outputs": [],
   "source": [
    "output_file_name = 'image1.jpg.out'\n",
    "dest_path = 'sample_data/demo_raw_output/' + output_file_name\n",
    "s3_path = 'ppe_mask_detection_model_batch_testing/output/' + output_file_name\n",
    "\n",
    "bucket = sess.boto_session.resource('s3').Bucket(sess.default_bucket())\n",
    "bucket.download_file(s3_path, dest_path)\n",
    "\n",
    "with open(dest_path, 'r') as file:\n",
    "    print(file.read())"
   ]
  }
 ],
 "metadata": {
  "kernelspec": {
   "display_name": "Python 3",
   "language": "python",
   "name": "python3"
  },
  "language_info": {
   "codemirror_mode": {
    "name": "ipython",
    "version": 3
   },
   "file_extension": ".py",
   "mimetype": "text/x-python",
   "name": "python",
   "nbconvert_exporter": "python",
   "pygments_lexer": "ipython3",
   "version": "3.6.5"
  }
 },
 "nbformat": 4,
 "nbformat_minor": 2
}