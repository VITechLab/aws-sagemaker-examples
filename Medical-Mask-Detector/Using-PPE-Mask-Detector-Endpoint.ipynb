{
 "cells": [
  {
   "cell_type": "markdown",
   "metadata": {},
   "source": [
    "# Personal Protection Equipment Detection model\n",
    "This notebook shows how you can use Python API to perform inference on endpoint created from the model"
   ]
  },
  {
   "cell_type": "markdown",
   "metadata": {},
   "source": [
    "### 1. Start the trial or buy our VitechLab PPE Mask Detector model on AWS Marketplace"
   ]
  },
  {
   "cell_type": "markdown",
   "metadata": {},
   "source": [
    "You can find our model here: "
   ]
  },
  {
   "cell_type": "markdown",
   "metadata": {},
   "source": [
    "### 2. Create a new endpoint using AWS SageMaker Python API or SageMaker console\n",
    "You can find our example here: "
   ]
  },
  {
   "cell_type": "markdown",
   "metadata": {},
   "source": [
    "### 3. Generating Prediction using `RealTimePredictor`"
   ]
  },
  {
   "cell_type": "code",
   "execution_count": null,
   "metadata": {
    "ExecuteTime": {
     "end_time": "2019-11-29T17:01:28.893601Z",
     "start_time": "2019-11-29T17:01:27.743830Z"
    }
   },
   "outputs": [],
   "source": [
    "import sagemaker as sage\n",
    "\n",
    "sess = sage.Session()\n",
    "endpoint_name = 'ppe-mask-detection-model-example-endpoint'\n",
    "\n",
    "predictor = sage.predictor.RealTimePredictor(\n",
    "    endpoint_name,\n",
    "    sagemaker_session=sess, \n",
    "    content_type=\"image/jpeg\"\n",
    ")"
   ]
  },
  {
   "cell_type": "code",
   "execution_count": null,
   "metadata": {
    "ExecuteTime": {
     "end_time": "2019-12-18T14:07:34.893015Z",
     "start_time": "2019-12-18T14:07:31.725443Z"
    }
   },
   "outputs": [],
   "source": [
    "file_name = 'sample_data/demo_input/image2.jpg'\n",
    "\n",
    "with open(file_name, 'rb') as image:\n",
    "    f = image.read()\n",
    "    image_bytes = bytearray(f)\n",
    "\n",
    "prediction_result = predictor.predict(image_bytes).decode(\"utf-8\")"
   ]
  },
  {
   "cell_type": "code",
   "execution_count": null,
   "metadata": {
    "ExecuteTime": {
     "end_time": "2020-01-14T13:11:16.639439Z",
     "start_time": "2020-01-14T13:11:16.556596Z"
    }
   },
   "outputs": [],
   "source": [
    "import json\n",
    "\n",
    "result = json.loads(prediction_result)\n",
    "result"
   ]
  },
  {
   "cell_type": "code",
   "execution_count": null,
   "metadata": {
    "ExecuteTime": {
     "end_time": "2020-01-14T13:11:17.173436Z",
     "start_time": "2020-01-14T13:11:16.641398Z"
    }
   },
   "outputs": [],
   "source": [
    "from utils import visualize_detection\n",
    "\n",
    "visualize_detection(file_name, result)"
   ]
  },
  {
   "cell_type": "markdown",
   "metadata": {},
   "source": [
    "_Photo by Susan A. Romano_"
   ]
  },
  {
   "cell_type": "markdown",
   "metadata": {},
   "source": [
    "### Delete the Endpoint\n",
    "Having an endpoint running will incur some costs. Therefore as a clean-up job, we should delete the endpoint."
   ]
  },
  {
   "cell_type": "code",
   "execution_count": null,
   "metadata": {
    "ExecuteTime": {
     "end_time": "2020-01-14T13:11:38.975159Z",
     "start_time": "2020-01-14T13:11:38.063633Z"
    }
   },
   "outputs": [],
   "source": [
    "sess.delete_endpoint(predictor.endpoint)"
   ]
  },
  {
   "cell_type": "code",
   "execution_count": null,
   "metadata": {},
   "outputs": [],
   "source": []
  }
 ],
 "metadata": {
  "kernelspec": {
   "display_name": "Python 3",
   "language": "python",
   "name": "python3"
  },
  "language_info": {
   "codemirror_mode": {
    "name": "ipython",
    "version": 3
   },
   "file_extension": ".py",
   "mimetype": "text/x-python",
   "name": "python",
   "nbconvert_exporter": "python",
   "pygments_lexer": "ipython3",
   "version": "3.6.5"
  }
 },
 "nbformat": 4,
 "nbformat_minor": 2
}